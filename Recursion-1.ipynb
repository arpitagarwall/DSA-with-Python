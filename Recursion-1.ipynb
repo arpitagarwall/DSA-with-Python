{
 "cells": [
  {
   "cell_type": "code",
   "execution_count": 8,
   "id": "b60d1cb2",
   "metadata": {},
   "outputs": [
    {
     "name": "stdout",
     "output_type": "stream",
     "text": [
      "4 0\n",
      "1\n"
     ]
    }
   ],
   "source": [
    "#Power Of A Number\n",
    "def powOfNum(x,n):\n",
    "    #we check the base case if number and it power bothe are 0 we need to return 1\n",
    "    if x == 0 and n == 0:\n",
    "        return 1\n",
    "    #we assume the induction hypothesis for n-1 power of x\n",
    "    smallOutput = x ** (n-1)\n",
    "    # we are multiplying the n-1 output to the x to get final result\n",
    "    output = smallOutput * x \n",
    "    return output\n",
    "\n",
    "a, b = input().split()\n",
    "a = int(a)\n",
    "b = int(b)\n",
    "print(int(powOfNum(a,b)))"
   ]
  },
  {
   "cell_type": "code",
   "execution_count": 34,
   "id": "ea468a01",
   "metadata": {},
   "outputs": [
    {
     "name": "stdout",
     "output_type": "stream",
     "text": [
      "3\n",
      "3 2 \n",
      "5\n"
     ]
    }
   ],
   "source": [
    "#Sum of Array\n",
    "def sumArray(arr):\n",
    "    length = len(arr)\n",
    "    #first we check base cases for length 0 and 1\n",
    "    if length == 0:\n",
    "        return\n",
    "    elif length == 1:\n",
    "        return arr[0]\n",
    "    else:\n",
    "        #if base cases is not satisfied than we create a list skipping first element every time function is called\n",
    "        smallerList = arr[1:]\n",
    "        #then we every time add first element with function call on smaller list\n",
    "        output = arr[0] + sumArray(smallerList)\n",
    "    return output\n",
    "\n",
    "from sys import setrecursionlimit\n",
    "setrecursionlimit(11000)\n",
    "n=int(input())\n",
    "arr=list(int(i) for i in input().strip().split(' '))\n",
    "print(sumArray(arr))"
   ]
  },
  {
   "cell_type": "code",
   "execution_count": 39,
   "id": "41f8053e",
   "metadata": {},
   "outputs": [
    {
     "name": "stdout",
     "output_type": "stream",
     "text": [
      "3\n",
      "8 9 10\n",
      "10\n",
      "true\n"
     ]
    }
   ],
   "source": [
    "#Check number in array\n",
    "def checkNumber(arr, x):\n",
    "    length = len(arr)\n",
    "    #first we check the base if list is empty\n",
    "    if length == 0:\n",
    "        return False\n",
    "    #then we take a smaller list and assume for induction hypothesis\n",
    "    smallerList = arr[1:]\n",
    "    if checkNumber(smallerList,x):\n",
    "        return True\n",
    "    else:\n",
    "        if arr[0] == x:\n",
    "            return True\n",
    "        else:\n",
    "            return False\n",
    "\n",
    "# Main\n",
    "from sys import setrecursionlimit\n",
    "setrecursionlimit(11000)\n",
    "n=int(input())\n",
    "arr=list(int(i) for i in input().strip().split(' '))\n",
    "x=int(input())\n",
    "if checkNumber(arr, x):\n",
    "    print('true')\n",
    "else:\n",
    "    print('false')"
   ]
  },
  {
   "cell_type": "code",
   "execution_count": 17,
   "id": "d45af679",
   "metadata": {},
   "outputs": [
    {
     "name": "stdout",
     "output_type": "stream",
     "text": [
      "44\n",
      "34 57 82 41 65 35 82 27 36 12 6 40 66 99 25 29 22 25 12 24 65 15 5 43 28 33 76 32 13 95 22 84 71 23 28 7 65 94 18 47 9 42 61 73\n",
      "61\n",
      "-1\n"
     ]
    }
   ],
   "source": [
    "#First Index of a number\n",
    "def firstIndex(arr, x, si):\n",
    "    l = len(arr)\n",
    "    # first we check for the base case if array is epmty then we return -1\n",
    "    if si == l:\n",
    "        return -1\n",
    "    # for induction hypothesis we check for given index si if its eqaul to given integer the index should be si\n",
    "    if arr[si] == x:\n",
    "        return si\n",
    "    #then for induction we pass the array to function and index = si + 1\n",
    "    index = firstIndex(arr,x,si+1)\n",
    "    return index    \n",
    "# Main\n",
    "from sys import setrecursionlimit\n",
    "setrecursionlimit(11000)\n",
    "n=int(input())\n",
    "arr=list(int(i) for i in input().strip().split(' '))\n",
    "x=int(input())\n",
    "print(firstIndex(arr, x, 0))"
   ]
  },
  {
   "cell_type": "code",
   "execution_count": 25,
   "id": "eb562f96",
   "metadata": {},
   "outputs": [
    {
     "name": "stdout",
     "output_type": "stream",
     "text": [
      "5\n",
      "1 4 5 4 8\n",
      "4\n",
      "3\n"
     ]
    }
   ],
   "source": [
    "#Last index of a number\n",
    "def lastIndex(arr,x,si):\n",
    "    #First we check the base if array is empty then we wil return -1\n",
    "    l = len(arr)\n",
    "    if si == l:\n",
    "        return -1\n",
    "    #then we assume induction hypothesis where we found the last index bit incrementing si = si + 1\n",
    "    index = lastIndex(arr,x,si+1)\n",
    "    #then when we get index = -1 we check for x integer equal to integer present at arr[si] and we return the si\n",
    "    if index == -1:\n",
    "        if arr[si] == x:\n",
    "            return si\n",
    "    return index\n",
    "\n",
    "#Main\n",
    "from sys import setrecursionlimit\n",
    "setrecursionlimit(11000)\n",
    "n=int(input())\n",
    "arr=list(int(i) for i in input().strip().split(' '))\n",
    "x=int(input())\n",
    "print(lastIndex(arr, x, 0))"
   ]
  },
  {
   "cell_type": "code",
   "execution_count": null,
   "id": "ed5f15ec",
   "metadata": {},
   "outputs": [],
   "source": []
  },
  {
   "cell_type": "code",
   "execution_count": null,
   "id": "30328e07",
   "metadata": {},
   "outputs": [],
   "source": []
  }
 ],
 "metadata": {
  "kernelspec": {
   "display_name": "Python 3",
   "language": "python",
   "name": "python3"
  },
  "language_info": {
   "codemirror_mode": {
    "name": "ipython",
    "version": 3
   },
   "file_extension": ".py",
   "mimetype": "text/x-python",
   "name": "python",
   "nbconvert_exporter": "python",
   "pygments_lexer": "ipython3",
   "version": "3.8.8"
  }
 },
 "nbformat": 4,
 "nbformat_minor": 5
}
