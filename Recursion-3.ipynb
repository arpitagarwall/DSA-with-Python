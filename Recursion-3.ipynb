{
 "cells": [
  {
   "cell_type": "code",
   "execution_count": 1,
   "id": "ddd53891",
   "metadata": {},
   "outputs": [
    {
     "name": "stdout",
     "output_type": "stream",
     "text": [
      "abc\n",
      "\n",
      "a\n",
      "b\n",
      "ab\n",
      "c\n",
      "ac\n",
      "bc\n",
      "abc\n"
     ]
    }
   ],
   "source": [
    "#Return Subsequences\n",
    "\n",
    "def subsequences(string):\n",
    "    #maintaining empty list\n",
    "    slist = []\n",
    "    #checking if given string is empty or not\n",
    "    if len(string) == 0:\n",
    "        #appending empty string to slist\n",
    "        slist.append(\"\")\n",
    "        return slist\n",
    "    #assuming induction hypothesis resurssion will give all the subsequence till n-1 char of string\n",
    "    out = subsequences(string[1:])\n",
    "    #creating final empty list\n",
    "    flist = []\n",
    "    #checking each elemnt in outlist\n",
    "    for char in out:\n",
    "        #appening each element in flist of out\n",
    "        flist.append(char)\n",
    "        #concatenating last character of string with all subsequence\n",
    "        last = string[0] + char\n",
    "        #appending last in flist\n",
    "        flist.append(last)\n",
    "        \n",
    "    return flist\n",
    "    \n",
    "\n",
    "string = input()\n",
    "ans = subsequences(string)\n",
    "for ele in ans:\n",
    "    print(ele)"
   ]
  },
  {
   "cell_type": "code",
   "execution_count": 2,
   "id": "df098399",
   "metadata": {},
   "outputs": [
    {
     "name": "stdout",
     "output_type": "stream",
     "text": [
      "23\n",
      "ad\n",
      "ae\n",
      "af\n",
      "bd\n",
      "be\n",
      "bf\n",
      "cd\n",
      "ce\n",
      "cf\n"
     ]
    }
   ],
   "source": [
    "#Return Keypad\n",
    "\n",
    "def keypad(n):\n",
    "    #making a keyconfig list with index respect to alphabets in a key\n",
    "    keyConfig = [\"\",\"\",\"abc\",\"def\",\"ghi\",\"jkl\",\"mno\",\"pqrs\",\"tuv\",\"wxyz\"]\n",
    "    #maintaining empty list\n",
    "    output = []\n",
    "    #base case checking if input integer is 0 or not\n",
    "    if n == 0:\n",
    "        #appending empty string in output\n",
    "        output.append(\"\")\n",
    "        return output\n",
    "    #getiing small integer value for example 23 / 10 gives 2\n",
    "    smallInt = int(n / 10)\n",
    "    #getiing remaining value for example 23 % 10 gives 3\n",
    "    remaining = n % 10\n",
    "    #using induction hypothesis recurssion will give list of character for smallInt\n",
    "    smallOutput = keypad(smallInt)\n",
    "    final = []\n",
    "    #checking char in smallOutput\n",
    "    for char in smallOutput:\n",
    "        #checking character at remaining index in KeyConfig\n",
    "        for ele in keyConfig[remaining]:\n",
    "            #concatenating and appending\n",
    "            final.append(char + ele)\n",
    "    return final\n",
    "    \n",
    "\n",
    "n = int(input())\n",
    "ans = keypad(n)\n",
    "for s in ans:\n",
    "    print(s)"
   ]
  },
  {
   "cell_type": "code",
   "execution_count": 3,
   "id": "34ae9cdc",
   "metadata": {},
   "outputs": [
    {
     "name": "stdout",
     "output_type": "stream",
     "text": [
      "abc\n",
      "abc\n",
      "ab\n",
      "ac\n",
      "a\n",
      "bc\n",
      "b\n",
      "c\n",
      "\n"
     ]
    }
   ],
   "source": [
    "#Print Subsequences\n",
    "\n",
    "def printSub(string, output=\"\"):\n",
    "    #checking if given string is empty or not\n",
    "    if len(string) == 0:\n",
    "        print(output)\n",
    "        return\n",
    "    #assuming induction hypothesis resurssion will give output with first character of string\n",
    "    printSub(string[1:], output + string[0])\n",
    "    #assuming induction hypothesis resurssion will give output without first character of string\n",
    "    printSub(string[1:], output)\n",
    "    \n",
    "s = input()\n",
    "printSub(s)"
   ]
  },
  {
   "cell_type": "code",
   "execution_count": 4,
   "id": "40816c9f",
   "metadata": {},
   "outputs": [
    {
     "name": "stdout",
     "output_type": "stream",
     "text": [
      "23\n",
      "ad\n",
      "bd\n",
      "cd\n",
      "ae\n",
      "be\n",
      "ce\n",
      "af\n",
      "bf\n",
      "cf\n"
     ]
    }
   ],
   "source": [
    "#Print Keypad\n",
    "\n",
    "def printKeypad(n,output = \"\"):\n",
    "    #making a keyconfig list with index respect to alphabets in a key\n",
    "    keyConfig = [\"\",\"\",\"abc\",\"def\",\"ghi\",\"jkl\",\"mno\",\"pqrs\",\"tuv\",\"wxyz\"]\n",
    "    #base case checking if input integer is 0 or not\n",
    "    if n == 0:\n",
    "        print(output)\n",
    "        return\n",
    "    #getiing small integer value for example 23 / 10 gives 2\n",
    "    smallInt = n // 10\n",
    "    #getiing remaining value for example 23 % 10 gives 3\n",
    "    remaining = n % 10\n",
    "    #checking character at remaining index in KeyConfig\n",
    "    for char in keyConfig[remaining]:\n",
    "        #using induction hypothesis recurssion will make output + char\n",
    "        printKeypad(smallInt,char + output)\n",
    "        \n",
    "n = int(input())\n",
    "printKeypad(n)"
   ]
  },
  {
   "cell_type": "code",
   "execution_count": 5,
   "id": "83b6cfa9",
   "metadata": {},
   "outputs": [
    {
     "name": "stdout",
     "output_type": "stream",
     "text": [
      "9\n",
      "5 12 3 17 1 18 15 3 17 \n",
      "6\n",
      "3 3 \n",
      "5 1 \n"
     ]
    }
   ],
   "source": [
    "#Return subsets sum to K\n",
    "\n",
    "import sys\n",
    "sys.setrecursionlimit(10 ** 8)\n",
    "\n",
    "def subsetsSumK(arr, k):\n",
    "    #base case when length of arr is 0\n",
    "    if len(arr) == 0:\n",
    "        #if value k is 0 return 2d empty array with 1 row\n",
    "        if k == 0:\n",
    "            return [[]]\n",
    "        else:\n",
    "            #return empty list\n",
    "            return []\n",
    "    \n",
    "    #using induction hypothesis recurssion will provide all subset for arr[1:] and k = k - arr[0]\n",
    "    temp1 = subsetsSumK(arr[1:], k - arr[0])\n",
    "    #using induction hypothesis recurssion will provide all subset for arr[1:]\n",
    "    temp2 = subsetsSumK(arr[1:], k)\n",
    "    #mainting output list\n",
    "    output = []\n",
    "    #appneding sub list from temp1 to output\n",
    "    for ele in temp2:\n",
    "        output.append(ele)\n",
    "    #appending sub list from temp2 to output    \n",
    "    for ele in temp1:\n",
    "        #add 0th element from arr in from of sublist\n",
    "        ele.insert(0,arr[0])\n",
    "        output.append(ele)\n",
    "        \n",
    "    return output\n",
    "        \n",
    "\n",
    "#taking input\n",
    "def takeInput():\n",
    "    n = int(input())\n",
    "\n",
    "    if n == 0:\n",
    "        return list(), 0\n",
    "\n",
    "    arr = [int(element) for element in input().split()]\n",
    "    return arr, n\n",
    "\n",
    "\n",
    "#printing the list of lists\n",
    "def printListOfList(liOfLi):\n",
    "    for li in liOfLi:\n",
    "        for elem in li:\n",
    "            print(elem, end = \" \")\n",
    "        print()\n",
    "\n",
    "#main\n",
    "arr, n = takeInput()\n",
    "\n",
    "if n != 0:\n",
    "    k = int(input())\n",
    "    liOfLi = subsetsSumK(arr, k)\n",
    "    printListOfList(liOfLi)"
   ]
  },
  {
   "cell_type": "code",
   "execution_count": 6,
   "id": "5c49a173",
   "metadata": {},
   "outputs": [
    {
     "name": "stdout",
     "output_type": "stream",
     "text": [
      "3\n",
      "15 20 12\n",
      "\n",
      "15\n",
      "20\n",
      "15 20\n",
      "12\n",
      "15 12\n",
      "20 12\n",
      "15 20 12\n"
     ]
    }
   ],
   "source": [
    "#Return subset of an array\n",
    "\n",
    "def subsetArray(arr):\n",
    "    #if length of arr is 0 then return 2-D array\n",
    "    if len(arr) == 0:\n",
    "        return [[]]\n",
    "    #using induction hypothesis recursion will give all subset till n-1 lenght of array\n",
    "    out = subsetArray(arr[1:])\n",
    "    #creating emty list\n",
    "    final = []\n",
    "    #for each sublist in out\n",
    "    for num in out:\n",
    "        #concatenating i with arr[0] making arr[0] as list\n",
    "        last = [arr[0]] + num\n",
    "        #appending i in final\n",
    "        final.append(num)\n",
    "        #appending last in final\n",
    "        final.append(last)\n",
    "    #returning final\n",
    "    return final\n",
    "\n",
    "n = int(input())\n",
    "if n != 0:\n",
    "    arr = [int(ele) for ele in input().split()]\n",
    "    ans = subsetArray(arr)\n",
    "    for ele in ans:\n",
    "        print(*ele, end=\"\")\n",
    "        print()"
   ]
  },
  {
   "cell_type": "code",
   "execution_count": 7,
   "id": "11514e91",
   "metadata": {},
   "outputs": [
    {
     "name": "stdout",
     "output_type": "stream",
     "text": [
      "abc\n",
      "abc\n",
      "acb\n",
      "bac\n",
      "bca\n",
      "cab\n",
      "cba\n"
     ]
    }
   ],
   "source": [
    "#Return Permutations of a String\n",
    "\n",
    "import sys\n",
    "sys.setrecursionlimit(10 ** 8)\n",
    "\n",
    "def permutations(string):\n",
    "    #base case if len of string is 1 return that string in list\n",
    "    if len(string) == 1:\n",
    "        return [string]\n",
    "    #maintaining empty list\n",
    "    final = []\n",
    "    #checking every character in string \n",
    "    for i in range(0,len(string)):\n",
    "        #saving character at index i from string\n",
    "        firstChar = string[i]\n",
    "        #making string that not contain character present at i index in string\n",
    "        otherString = string[0:i] + string[i+1:]\n",
    "        #using induction hypothesis recursion will give permutation for n-1 characters\n",
    "        out = permutations(otherString)\n",
    "        for log in out:\n",
    "            #adding first character in front of rest character \n",
    "            final.append(firstChar + log)\n",
    "    return final\n",
    "\n",
    "\n",
    "string = input()\n",
    "ans = permutations(string)\n",
    "for s in ans:\n",
    "    print(s)"
   ]
  },
  {
   "cell_type": "code",
   "execution_count": 8,
   "id": "83432ecb",
   "metadata": {},
   "outputs": [
    {
     "name": "stdout",
     "output_type": "stream",
     "text": [
      "3\n",
      "15 10 12\n",
      "\n",
      "12\n",
      "10\n",
      "10 12\n",
      "15\n",
      "15 12\n",
      "15 10\n",
      "15 10 12\n"
     ]
    }
   ],
   "source": [
    "#Print Subsets of Array\n",
    "\n",
    "def printSubsetArray(arr, out = [[]]):\n",
    "    #checking if length of arr is 0\n",
    "    if len(arr) == 0:\n",
    "        #going on each element of output\n",
    "        for ele in out:\n",
    "            print(*ele, end=\"\")\n",
    "            print()\n",
    "        return\n",
    "    #using induction hypothesis recurssion will give output for n-1 array without giving first element\n",
    "    printSubsetArray(arr[1:], out)\n",
    "    final = []\n",
    "    #checking each element in out\n",
    "    for num in out:\n",
    "        #adding first element in front every output\n",
    "        last = num + [arr[0]]\n",
    "        #appending that also in final\n",
    "        final.append(last)\n",
    "    #using induction hypothesis recurssion will give output for n-1 array with adding first element\n",
    "    printSubsetArray(arr[1:], final)\n",
    "        \n",
    "n = int(input())\n",
    "if n != 0:\n",
    "    arr = [int(ele) for ele in input().split()]\n",
    "    printSubsetArray(arr)"
   ]
  },
  {
   "cell_type": "code",
   "execution_count": 9,
   "id": "8dc5bd7c",
   "metadata": {},
   "outputs": [
    {
     "name": "stdout",
     "output_type": "stream",
     "text": [
      "9\n",
      "5 12 3 17 1 18 15 3 17\n",
      "6\n",
      "5 1\n",
      "3 3\n"
     ]
    }
   ],
   "source": [
    "#Print Subset Sum to K\n",
    "\n",
    "def printSubset(arr, k, lst):\n",
    "    #cheking length of arr\n",
    "    n = len(arr)\n",
    "    #if n is 0 then return\n",
    "    if n == 0:\n",
    "        return\n",
    "    #if n is 1\n",
    "    if n == 1:\n",
    "        #checking 1st element o arr equal to k\n",
    "        if arr[0] == k:\n",
    "            #printing k and lst\n",
    "            print(k, *lst)\n",
    "            return\n",
    "    #using induction hypothesis recurssing will give output\n",
    "    printSubset(arr[:-1], k, lst)\n",
    "    printSubset(arr[:-1], k-arr[-1], [arr[-1]] + lst)\n",
    "    #checking last element o arr equal to k\n",
    "    if arr[-1] == k:\n",
    "        #printing k and lst\n",
    "        print(k, *lst)\n",
    "\n",
    "def printSubsetMain(arr, k):\n",
    "    printSubset(arr, k, [])\n",
    "    \n",
    "n = int(input())\n",
    "arr = [int(ele) for ele in input().split()]\n",
    "k = int(input())\n",
    "printSubsetMain(arr, k)"
   ]
  },
  {
   "cell_type": "code",
   "execution_count": 10,
   "id": "9bcf6931",
   "metadata": {},
   "outputs": [
    {
     "name": "stdout",
     "output_type": "stream",
     "text": [
      "abc\n",
      "abc\n",
      "acb\n",
      "bac\n",
      "bca\n",
      "cab\n",
      "cba\n"
     ]
    }
   ],
   "source": [
    "#Print Permutations of a String\n",
    "\n",
    "def printPermutations(string, out = \"\"):\n",
    "    \n",
    "    #base case if len of string is 0 then print out\n",
    "    if len(string) == 0:\n",
    "        print(out)\n",
    "        return\n",
    "    #using for loop till range of length of string\n",
    "    for i in range(0,len(string)):\n",
    "        #saving character at index i from string\n",
    "        firstChar = string[i]\n",
    "        #making string that not contain character present at i index in string\n",
    "        otherString = string[0:i] + string[i+1:]\n",
    "        #using induction hypothesis recursion will give permutation for n-1 characters\n",
    "        printPermutations(otherString, out + firstChar)\n",
    "        \n",
    "string = input()\n",
    "printPermutations(string)"
   ]
  }
 ],
 "metadata": {
  "kernelspec": {
   "display_name": "Python 3 (ipykernel)",
   "language": "python",
   "name": "python3"
  },
  "language_info": {
   "codemirror_mode": {
    "name": "ipython",
    "version": 3
   },
   "file_extension": ".py",
   "mimetype": "text/x-python",
   "name": "python",
   "nbconvert_exporter": "python",
   "pygments_lexer": "ipython3",
   "version": "3.9.7"
  }
 },
 "nbformat": 4,
 "nbformat_minor": 5
}
