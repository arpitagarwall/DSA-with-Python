{
 "cells": [
  {
   "cell_type": "code",
   "execution_count": 3,
   "id": "fcf881c6",
   "metadata": {},
   "outputs": [
    {
     "name": "stdout",
     "output_type": "stream",
     "text": [
      "abc\n",
      "abc\n"
     ]
    }
   ],
   "source": [
    "#Remove X\n",
    "def removeX(string):\n",
    "    # First we check the base case if string is empty then return the string\n",
    "    if len(string) == 0:\n",
    "        return string\n",
    "    #then we assume induction hypothesis for substring of a given string\n",
    "    smallOutput = removeX(string[1:])\n",
    "    #the we check the condition and return the string base on it\n",
    "    if string[0] == 'x':\n",
    "        return smallOutput\n",
    "    else:\n",
    "        return string[0] + smallOutput\n",
    "\n",
    "# Main\n",
    "string = input()\n",
    "print(removeX(string))"
   ]
  },
  {
   "cell_type": "code",
   "execution_count": 12,
   "id": "da2bba4e",
   "metadata": {},
   "outputs": [
    {
     "name": "stdout",
     "output_type": "stream",
     "text": [
      "tadayutaysgcgtttggytytyyyikk\n",
      "tadayutaysgcgtgytytyik\n"
     ]
    }
   ],
   "source": [
    "#Remove Duplicates Recursively\n",
    "def removeConsecutiveDuplicates(string):\n",
    "    #First we need to check if string length is 0 or 1 then we return the string because we need find consecutive duplicate\n",
    "    if len(string) == 0 or len(string) == 1:\n",
    "        return string\n",
    "    #We Assume the Induction Hypothesis on smaller string[1:]\n",
    "    smallOutput = removeConsecutiveDuplicates(string[1:])\n",
    "    #then we check the condition if first element of smalleroutput and string is same then we only return smaller string\n",
    "    if string[0] == smallOutput[0]:\n",
    "        return smallOutput\n",
    "    else:\n",
    "        return string[0] + smallOutput\n",
    "# Main\n",
    "string = input().strip()\n",
    "print(removeConsecutiveDuplicates(string))"
   ]
  },
  {
   "cell_type": "code",
   "execution_count": 7,
   "id": "db8484a3",
   "metadata": {},
   "outputs": [
    {
     "name": "stdout",
     "output_type": "stream",
     "text": [
      "6\n",
      "2 8 5 4 6 3\n",
      "2 3 4 5 6 8\n"
     ]
    }
   ],
   "source": [
    "#merge Sort Code\n",
    "def merge(s1,s2,arr):\n",
    "    i = 0 #for index position on s1\n",
    "    j = 0 #for index position on s2\n",
    "    k = 0 #for index position on arr original list\n",
    "    \n",
    "    # we will check the length of 2 small list and basis on that we will assign value to original list on correct postion\n",
    "    while i < len(s1) and j < len(s2):\n",
    "        if s1[i] < s2[j]:\n",
    "            arr[k] = s1[i]\n",
    "            i = i + 1\n",
    "            k = k + 1\n",
    "        else:\n",
    "            arr[k] = s2[j]\n",
    "            j = j + 1\n",
    "            k = k + 1\n",
    "    #if lengtt of any s1 > s2 or s2 > s1 then again we have to pick the remaining element from list put it to end of arr\n",
    "    while i < len(s1):\n",
    "        arr[k] = s1[i]\n",
    "        i = i + 1\n",
    "        k = k + 1\n",
    "    while j < len(s2):\n",
    "        arr[k] = s2[j]\n",
    "        j = j + 1\n",
    "        k = k + 1\n",
    "\n",
    "def mergeSort(arr, start, end):\n",
    "    l = len(arr)\n",
    "    \n",
    "    #We check for base case and return from there\n",
    "    if l == 0 or l == 1:\n",
    "        return\n",
    "    \n",
    "    #for dividing original list into 2 half we need to find middle index\n",
    "    mid = l // 2\n",
    "    \n",
    "    #Dividing arr on basis of mid\n",
    "    s1 = arr[:mid]\n",
    "    s2 = arr[mid:]\n",
    "    \n",
    "    #Assuming induction hypothesis will merge smaller list s1 and s2\n",
    "    mergeSort(s1,0,0)\n",
    "    mergeSort(s2,0,0)\n",
    "    \n",
    "    #Induction step mergint 2 smaller list into original list\n",
    "    merge(s1,s2,arr)\n",
    "\n",
    "# Main\n",
    "n=int(input())\n",
    "arr=list(int(i) for i in input().strip().split(' '))\n",
    "mergeSort(arr, 0, n)\n",
    "print(*arr)"
   ]
  },
  {
   "cell_type": "code",
   "execution_count": 23,
   "id": "bc47a096",
   "metadata": {},
   "outputs": [
    {
     "name": "stdout",
     "output_type": "stream",
     "text": [
      "5\n",
      "3 5 4 1 2\n",
      "1 2 3 4 5\n"
     ]
    }
   ],
   "source": [
    "#Quick Sort Code\n",
    "def partition(arr,start,end):\n",
    "    #first we store the pivot element in variable present at start index\n",
    "    pivot = arr[start]\n",
    "    count = 0\n",
    "    #we loop through the array and check how many element are smaller then pivot element and store that count\n",
    "    for i in range(start,end+1,1):\n",
    "        if arr[i] < pivot:\n",
    "            count = count + 1\n",
    "    #then we change the position of pivot element to its actual position in array\n",
    "    arr[start+count],arr[start] = arr[start],arr[start+count]\n",
    "    index = start + count\n",
    "    m = start\n",
    "    n = end\n",
    "    #then we check left and right of pivot element and swap the element according to greater than or lesser than to pivot element\n",
    "    while m < n:\n",
    "        if arr[m] < pivot:\n",
    "            m = m + 1\n",
    "        elif arr[n] >= pivot:\n",
    "            n = n - 1\n",
    "        else:\n",
    "            arr[m],arr[n] = arr[n],arr[m]\n",
    "            m = m + 1\n",
    "            n = n - 1\n",
    "    return index\n",
    "\n",
    "def quickSort(arr, start, end):\n",
    "    #First check the base case for quick sort\n",
    "    if start >= end:\n",
    "        return\n",
    "    #then we need another function toh partition the given array and store partion index\n",
    "    index = partition(arr,start,end)\n",
    "    #Assume induction hypothesis call quick sort with changing start and end index\n",
    "    quickSort(arr,start,index-1)\n",
    "    quickSort(arr,index+1,end)\n",
    "\n",
    "#Main\n",
    "n=int(input())\n",
    "arr=list(int(i) for i in input().strip().split(' '))\n",
    "quickSort(arr, 0, len(arr)-1)\n",
    "print(*arr)"
   ]
  },
  {
   "cell_type": "code",
   "execution_count": 66,
   "id": "e0a8a2d6",
   "metadata": {},
   "outputs": [
    {
     "name": "stdout",
     "output_type": "stream",
     "text": [
      "3\n",
      "a c\n",
      "a b\n",
      "c b\n",
      "a c\n",
      "b a\n",
      "b c\n",
      "a c\n"
     ]
    }
   ],
   "source": [
    "#Tower of hanoi problem\n",
    "def towerofhanoi(n, source, aux, dest):\n",
    "    #Base case if there are only 1  disc then simply move it from source to dest\n",
    "    if n == 1:\n",
    "        print(source + \" \" + dest)\n",
    "    #Assume induction hypothesis if there are more than 1 disk than call the function again    \n",
    "    if n > 1:\n",
    "        towerofhanoi(n-1,source,dest,aux)\n",
    "        #for nth disk we need to directly move it from source to dest\n",
    "        print(source + \" \" + dest)   \n",
    "        towerofhanoi(n-1,aux,source,dest)\n",
    "#Main\n",
    "n = int(input())\n",
    "towerofhanoi(n, 'a', 'b', 'c')"
   ]
  },
  {
   "cell_type": "code",
   "execution_count": null,
   "id": "98e0a0d1",
   "metadata": {},
   "outputs": [],
   "source": [
    "i = 1 (1,a,c,b)\n",
    "a b"
   ]
  }
 ],
 "metadata": {
  "kernelspec": {
   "display_name": "Python 3",
   "language": "python",
   "name": "python3"
  },
  "language_info": {
   "codemirror_mode": {
    "name": "ipython",
    "version": 3
   },
   "file_extension": ".py",
   "mimetype": "text/x-python",
   "name": "python",
   "nbconvert_exporter": "python",
   "pygments_lexer": "ipython3",
   "version": "3.8.8"
  }
 },
 "nbformat": 4,
 "nbformat_minor": 5
}
