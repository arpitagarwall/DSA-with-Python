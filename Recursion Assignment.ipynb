{
 "cells": [
  {
   "cell_type": "code",
   "execution_count": 49,
   "id": "25fb4aeb",
   "metadata": {},
   "outputs": [
    {
     "name": "stdout",
     "output_type": "stream",
     "text": [
      "3\n",
      "1.87500\n"
     ]
    }
   ],
   "source": [
    "#Geometric Sum\n",
    "def geometricSum(k):\n",
    "    #First we check base case if k <= 0 then return 1.0\n",
    "    if k <= 0:\n",
    "        return 1.0\n",
    "    #We assume induction hypothesis on k-1 term will give correct output\n",
    "    sum_num = geometricSum(k-1)\n",
    "    #then we add output from the recurssive function to the result we are calculating\n",
    "    result = sum_num + 1/(2 ** k)\n",
    "    return result\n",
    "\n",
    "n = int(input())\n",
    "print(\"{:.5f}\".format(geometricSum(n)))"
   ]
  },
  {
   "cell_type": "code",
   "execution_count": 94,
   "id": "ca4fed5a",
   "metadata": {},
   "outputs": [
    {
     "name": "stdout",
     "output_type": "stream",
     "text": [
      "n\n",
      "true\n"
     ]
    }
   ],
   "source": [
    "#Check palindrome recurssively\n",
    "def checkPalindrome(s):\n",
    "    #first we check the base case if string is empty then return string\n",
    "    if len(s) == 0:\n",
    "        return s\n",
    "    #the we check ig length of string is >= 1\n",
    "    if len(s) >= 1:\n",
    "        #we store the last character of string in a\n",
    "        a = s[len(s) - 1:]\n",
    "        #Assume induction hypothesis will give reverse of string for length - 1\n",
    "        output = checkPalindrome(s[:len(s) - 1])\n",
    "        #then we concatenate last character with output of recursive function\n",
    "        result = a + output\n",
    "    return result\n",
    "\n",
    "s = input()\n",
    "final = checkPalindrome(s)\n",
    "if s == final:\n",
    "    print('true')\n",
    "else:\n",
    "    print('false')"
   ]
  },
  {
   "cell_type": "code",
   "execution_count": 161,
   "id": "7fdd60fc",
   "metadata": {},
   "outputs": [
    {
     "name": "stdout",
     "output_type": "stream",
     "text": [
      "12345\n",
      "15\n"
     ]
    }
   ],
   "source": [
    "#Sum of digits in anumber\n",
    "def sumOfDigits(n):\n",
    "    #first we convert number into string\n",
    "    a = str(n)\n",
    "    #then we check the base case and return the number\n",
    "    if len(a) <= 1:\n",
    "        return int(a)\n",
    "    #if length of number is greater than 1\n",
    "    if len(a) > 1:\n",
    "        #assign first digit of number to num\n",
    "        num = int(a[0])\n",
    "        #assign rest of number to b\n",
    "        b = int(a[1:])\n",
    "        #Assume induction hypothesis that for n-1 digit it will work correct so passing b in function\n",
    "        output = sumOfDigits(b)\n",
    "        #Adding output of the function to num\n",
    "        result = num + output\n",
    "    return result\n",
    "\n",
    "#Main\n",
    "n = int(input())\n",
    "print(sumOfDigits(n))"
   ]
  },
  {
   "cell_type": "code",
   "execution_count": 165,
   "id": "bb130280",
   "metadata": {},
   "outputs": [
    {
     "name": "stdout",
     "output_type": "stream",
     "text": [
      "000100\n",
      "40\n",
      "4000\n"
     ]
    }
   ],
   "source": [
    "#Multiplication using + and - Operators\n",
    "def multiplication(m,n):\n",
    "    #Base case m and n should not be less or equal to 0\n",
    "    if m <= 0 or  n <= 0:\n",
    "        return 0\n",
    "    #Assume Induction Hypothesis will give correct answer for n-1 elements\n",
    "    if m >= 1 and n >= 1:\n",
    "        num = m\n",
    "        sum_num = multiplication(m,n-1)\n",
    "        #adding m to sum_num for n times\n",
    "        result = num + sum_num\n",
    "    return result\n",
    "\n",
    "#Main\n",
    "from sys import setrecursionlimit\n",
    "setrecursionlimit(10**6) \n",
    "m = int(input())\n",
    "n = int(input())\n",
    "print(multiplication(m,n))"
   ]
  },
  {
   "cell_type": "code",
   "execution_count": 11,
   "id": "138bb4b4",
   "metadata": {},
   "outputs": [
    {
     "name": "stdout",
     "output_type": "stream",
     "text": [
      "01002\n",
      "0\n"
     ]
    }
   ],
   "source": [
    "# Count Zeroes\n",
    "def countZeroes(n):\n",
    "    #first we check the base case as we pass string to the function\n",
    "    if len(n) <= 0:\n",
    "        return 0\n",
    "    count = 0\n",
    "    #then if length pf string is greater than or equal to 1\n",
    "    if len(n) >= 1:\n",
    "        #we assign first element of string to variable a\n",
    "        a = n[0]\n",
    "        #check if a is equal to 0\n",
    "        if a == \"0\":\n",
    "            count = count + 1\n",
    "    #Assume induction hyputhesis will give correct count of 0 present in n[1:] string\n",
    "    out = countZeroes(n[1:])\n",
    "    #adding count and out to result and return it\n",
    "    result = out + count\n",
    "    return result\n",
    "    \n",
    "#Main      \n",
    "from sys import setrecursionlimit\n",
    "setrecursionlimit(10**6)\n",
    "n = int(input())\n",
    "print(countZeroes(str(n)))"
   ]
  },
  {
   "cell_type": "code",
   "execution_count": 1,
   "id": "c3258127",
   "metadata": {},
   "outputs": [
    {
     "name": "stdout",
     "output_type": "stream",
     "text": [
      "12345\n",
      "12345\n"
     ]
    }
   ],
   "source": [
    "#String To Integer\n",
    "def stringToInteger(n):\n",
    "    return n\n",
    "\n",
    "#Main      \n",
    "from sys import setrecursionlimit\n",
    "setrecursionlimit(10**6)\n",
    "n = input()\n",
    "print(stringToInteger(int(n)))"
   ]
  },
  {
   "cell_type": "code",
   "execution_count": 13,
   "id": "6574cbab",
   "metadata": {},
   "outputs": [
    {
     "name": "stdout",
     "output_type": "stream",
     "text": [
      "aaaa\n",
      "a*a*a*a\n"
     ]
    }
   ],
   "source": [
    "# Pair Star\n",
    "def pairStar(s):\n",
    "    #first we check base case on length of string\n",
    "    if len(s) == 0 or len(s) == 1:\n",
    "        return s\n",
    "    result = \"\"\n",
    "    #then we check if first and second element are equal we append * between them else we only assign first \n",
    "    #character to new string\n",
    "    if s[0] == s[1]:\n",
    "        result = s[0] + \"*\"\n",
    "    else:\n",
    "        result = s[0]\n",
    "    #Assuming induction hypothesis it will give correct output for n-1 characters in string\n",
    "    output = pairStar(s[1:])\n",
    "    final = result + output\n",
    "    return final\n",
    "\n",
    "#Main      \n",
    "from sys import setrecursionlimit\n",
    "setrecursionlimit(10**6)\n",
    "s = input()\n",
    "print(pairStar(s))"
   ]
  },
  {
   "cell_type": "code",
   "execution_count": 170,
   "id": "8c0fb510",
   "metadata": {},
   "outputs": [
    {
     "name": "stdout",
     "output_type": "stream",
     "text": [
      "abb\n",
      "true\n"
     ]
    }
   ],
   "source": [
    "#CheckAB\n",
    "def checkAB(s):\n",
    "    #Check base if len(s) == 0\n",
    "    if(len(s) == 0):\n",
    "        return True\n",
    "    #then we check for first 3 character of string\n",
    "    if(s[0] == 'a'):\n",
    "        #Assuming induction hypothesis that recursion will give correct answer for n-1 character\n",
    "        if(len(s[1:]) > 1 and s[1:3] == 'bb'):\n",
    "            return checkAB(s[3:])\n",
    "        else:\n",
    "            return checkAB(s[1:])\n",
    "    else :\n",
    "        return False\n",
    "#Main \n",
    "from sys import setrecursionlimit\n",
    "setrecursionlimit(10**6)\n",
    "s=input()\n",
    "if(checkAB(s)):\n",
    "    print(\"true\")\n",
    "else:\n",
    "    print(\"false\")"
   ]
  },
  {
   "cell_type": "code",
   "execution_count": 168,
   "id": "f7d2339b",
   "metadata": {},
   "outputs": [
    {
     "name": "stdout",
     "output_type": "stream",
     "text": [
      "5\n",
      "13\n"
     ]
    }
   ],
   "source": [
    "#Staircase problem\n",
    "def staircase(n):\n",
    "    x = 0\n",
    "    y = 0\n",
    "    z = 0\n",
    "    #check the base case if n <= 1 than return 1\n",
    "    if n <= 1:\n",
    "        return 1\n",
    "    #then we check condition for step 1,2,3 and assume thet recursion will give correct answer for n-step\n",
    "    if x <= n-1:\n",
    "        x = x + 1\n",
    "        x = staircase(n-1)\n",
    "    if y <= n-2:\n",
    "        y = y + 2\n",
    "        y = staircase(n-2)\n",
    "    if z <= n-3:\n",
    "        z = z + 3\n",
    "        z = staircase(n-3)\n",
    "    return x + y + z\n",
    "#Main\n",
    "from sys import setrecursionlimit\n",
    "setrecursionlimit(10**6) \n",
    "n = int(input())\n",
    "print(staircase(n))"
   ]
  }
 ],
 "metadata": {
  "kernelspec": {
   "display_name": "Python 3",
   "language": "python",
   "name": "python3"
  },
  "language_info": {
   "codemirror_mode": {
    "name": "ipython",
    "version": 3
   },
   "file_extension": ".py",
   "mimetype": "text/x-python",
   "name": "python",
   "nbconvert_exporter": "python",
   "pygments_lexer": "ipython3",
   "version": "3.8.8"
  }
 },
 "nbformat": 4,
 "nbformat_minor": 5
}
